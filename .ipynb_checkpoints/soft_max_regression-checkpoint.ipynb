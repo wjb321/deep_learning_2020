{
 "cells": [
  {
   "cell_type": "code",
   "execution_count": 134,
   "metadata": {},
   "outputs": [
    {
     "name": "stdout",
     "output_type": "stream",
     "text": [
      "Extracting MNIST_data/train-images-idx3-ubyte.gz\n",
      "Extracting MNIST_data/train-labels-idx1-ubyte.gz\n",
      "Extracting MNIST_data/t10k-images-idx3-ubyte.gz\n",
      "Extracting MNIST_data/t10k-labels-idx1-ubyte.gz\n"
     ]
    }
   ],
   "source": [
    "#import tensorflow as tf\n",
    "import tensorflow.compat.v1 as tf\n",
    "tf.disable_v2_behavior()\n",
    "from tensorflow.examples.tutorials.mnist import input_data\n",
    "mnist = input_data.read_data_sets('MNIST_data/', one_hot =True)\n",
    "x =tf.placeholder(tf.float32, [None,784])"
   ]
  },
  {
   "cell_type": "markdown",
   "metadata": {},
   "source": [
    "此处有两个部分，**占位符**和**变量**。他们都代表Tensor。tensor的概念为非具体数值，而是部分希望计算的节点。  \n",
    "**占位符**， 它的值由由用户自行传递给TensorFlow。通常存储样本的数据和标签。比如x =tf.placeholder(tf.float32, [None,784])存储训练图片数据的占位符。形状为[None,784]，可以传递任意张训练图片给这个占位符，每张图片用一个784维的向量表示。占位符并没有初始值，它只会分配必要的内存。  \n",
    "**变量**，代表任何时候可以改变的值，每次计算后的值会被保存下来。  "
   ]
  },
  {
   "cell_type": "code",
   "execution_count": 135,
   "metadata": {},
   "outputs": [],
   "source": [
    "W = tf.Variable(tf.zeros([784,10]))\n",
    "b = tf.Variable(tf.zeros([10]))\n",
    "y = tf.nn.softmax(tf.matmul(x,W)+b)\n",
    "y_ = tf.placeholder(tf.float32, [None,10])"
   ]
  },
  {
   "cell_type": "markdown",
   "metadata": {},
   "source": [
    "tf.reduce_mean 函数用于计算张量tensor沿着指定的数轴（tensor的某一维度）上的的平均值，主要用作降维或者计算tensor（图像）的平均值。"
   ]
  },
  {
   "cell_type": "markdown",
   "metadata": {},
   "source": [
    "# Cross_entropy loss func"
   ]
  },
  {
   "cell_type": "code",
   "execution_count": 136,
   "metadata": {},
   "outputs": [],
   "source": [
    "cross_entropy = tf.reduce_mean(-tf.reduce_sum(y_*tf.log(y)))#下面有reduce_mean和reduce_sum相关的例子"
   ]
  },
  {
   "cell_type": "markdown",
   "metadata": {},
   "source": [
    "#此处是关于reduce_mean()的参考代码\n",
    "import tensorflow as tf\n",
    "import tensorflow.compat.v1 as tf\n",
    "tf.disable_v2_behavior()\n",
    " \n",
    "x = [[1,2,3],\n",
    "      [1,2,3]]\n",
    " \n",
    "xx = tf.cast(x,tf.float32)\n",
    " \n",
    "mean_all = tf.reduce_mean(xx, keepdims=False)#keep_dims\n",
    "mean_0 = tf.reduce_mean(xx, axis=0, keepdims=False)# axis=0,表示列上面求均值，axis=1， 表示行上面求均值 \n",
    "mean_1 = tf.reduce_mean(xx, axis=1, keepdims=False)\n",
    " \n",
    " \n",
    "with tf.Session() as sess:\n",
    "    m_a,m_0,m_1 = sess.run([mean_all, mean_0, mean_1])\n",
    " \n",
    "print(m_a)    # output: 2.0\n",
    "print(m_0)    # output: [ 1.  2.  3.]\n",
    "print(m_1)    #output:  [ 2.  2.]"
   ]
  },
  {
   "cell_type": "markdown",
   "metadata": {},
   "source": [
    "类似函数还有:  \n",
    "tf.reduce_sum ：计算tensor指定轴方向上的所有元素的累加和;  \n",
    "tf.reduce_max  :  计算tensor指定轴方向上的各个元素的最大值;  \n",
    "tf.reduce_all :  计算tensor指定轴方向上的各个元素的逻辑和（and运算）;  \n",
    "tf.reduce_any:  计算tensor指定轴方向上的各个元素的逻辑或（or运算）;  "
   ]
  },
  {
   "cell_type": "markdown",
   "metadata": {},
   "source": [
    "# Gradient descent "
   ]
  },
  {
   "cell_type": "code",
   "execution_count": 137,
   "metadata": {},
   "outputs": [],
   "source": [
    "train_step = tf.train.GradientDescentOptimizer(0.01).minimize(cross_entropy)"
   ]
  },
  {
   "cell_type": "markdown",
   "metadata": {},
   "source": [
    "此处两个自变量，W和b，那么利用梯度下降发对W和b进行更新。update w and b value. "
   ]
  },
  {
   "cell_type": "markdown",
   "metadata": {},
   "source": [
    "#### 在优化前，需要进行初始化，这里叫做创建会话，并进行初始化。"
   ]
  },
  {
   "cell_type": "code",
   "execution_count": 138,
   "metadata": {},
   "outputs": [
    {
     "name": "stdout",
     "output_type": "stream",
     "text": [
      "start training...\n"
     ]
    }
   ],
   "source": [
    "sess = tf.InteractiveSession()\n",
    "tf.global_variables_initializer().run()#初始化所有变量\n",
    "print('start training...')"
   ]
  },
  {
   "cell_type": "markdown",
   "metadata": {},
   "source": [
    "# Optimization start"
   ]
  },
  {
   "cell_type": "code",
   "execution_count": 139,
   "metadata": {},
   "outputs": [
    {
     "name": "stdout",
     "output_type": "stream",
     "text": [
      "0.9011\n"
     ]
    }
   ],
   "source": [
    "for _ in range(1000):\n",
    "    batch_xs, batch_ys = mnist.train.next_batch(100)\n",
    "    #get 100 training data \n",
    "    #shape batch_xs(100,784), batch_ys(100,10), batch_xs and batch_ys are placeholders of xs and y_\n",
    "    #运行会话，参数：train_step, batches for xs and ys\n",
    "    sess.run(train_step, feed_dict = {x:batch_xs, y_: batch_ys})\n",
    "correct_prediction = tf.equal(tf.argmax(y,1) , tf.argmax(y_,1))#取出行中最大的下标\n",
    "accuracy = tf.reduce_mean(tf.cast(correct_prediction, tf.float32))#具体作用，参考下面带有数值的具体代码\n",
    "print(sess.run(accuracy, feed_dict ={x:mnist.test.images, y_:mnist.test.labels}))"
   ]
  },
  {
   "cell_type": "markdown",
   "metadata": {},
   "source": [
    "tf.equal例子 https://blog.csdn.net/ustbbsy/article/details/79564529"
   ]
  },
  {
   "cell_type": "code",
   "execution_count": 143,
   "metadata": {},
   "outputs": [
    {
     "name": "stdout",
     "output_type": "stream",
     "text": [
      "[[1, 3, 4, 5, 6]]\n",
      "[[ True  True  True False False]]\n"
     ]
    }
   ],
   "source": [
    "import numpy as np\n",
    "import tensorflow.compat.v1 as tf\n",
    "tf.disable_v2_behavior()\n",
    "''''x = np.ones((4,9))\n",
    "x = 0.01*x[:,:]\n",
    "x[0,0]=0.91\n",
    "x[1,0]=0.91\n",
    "x[2,0]=0.91\n",
    "x[3,0]=0.91\n",
    "print(np.array(x))\n",
    "print(type(x))'''\n",
    "x  = [[1,3,4,5,6]]\n",
    "x1 = [[1,3,4,3,2]]\n",
    "print(x)\n",
    "with tf.Session()  as sess:\n",
    "    print(sess.run(tf.equal(x,x1)))"
   ]
  },
  {
   "cell_type": "code",
   "execution_count": 141,
   "metadata": {},
   "outputs": [
    {
     "name": "stdout",
     "output_type": "stream",
     "text": [
      "[[ True  True  True False False]]\n"
     ]
    }
   ],
   "source": [
    "import tensorflow.compat.v1 as tf\n",
    "import numpy as np\n",
    " \n",
    "A = [[1,3,4,5,6]]\n",
    "B = [[1,3,4,3,2]]\n",
    " \n",
    "with tf.Session() as sess:\n",
    "    print(sess.run(tf.equal(A, B)))"
   ]
  },
  {
   "cell_type": "code",
   "execution_count": 142,
   "metadata": {},
   "outputs": [
    {
     "name": "stdout",
     "output_type": "stream",
     "text": [
      "[[ True False  True]\n",
      " [False  True False]]\n"
     ]
    }
   ],
   "source": [
    "import tensorflow.compat.v1 as tf\n",
    "a = [[1,2,3],[4,5,6]]\n",
    "b = [[1,0,3],[1,5,1]]\n",
    "with tf.Session() as sess:\n",
    "    print(sess.run(tf.equal(a,b)))"
   ]
  },
  {
   "cell_type": "markdown",
   "metadata": {},
   "source": [
    "比如上述代码，得到false或者true，true代表预测正确，相对的false就是预测错误，那么就可以将其换成对应的1和0，从而算出来[1,0,0,1], 所以其准确率是50%"
   ]
  },
  {
   "cell_type": "code",
   "execution_count": null,
   "metadata": {},
   "outputs": [],
   "source": []
  }
 ],
 "metadata": {
  "kernelspec": {
   "display_name": "Python 3",
   "language": "python",
   "name": "python3"
  },
  "language_info": {
   "codemirror_mode": {
    "name": "ipython",
    "version": 3
   },
   "file_extension": ".py",
   "mimetype": "text/x-python",
   "name": "python",
   "nbconvert_exporter": "python",
   "pygments_lexer": "ipython3",
   "version": "3.8.3"
  }
 },
 "nbformat": 4,
 "nbformat_minor": 4
}
