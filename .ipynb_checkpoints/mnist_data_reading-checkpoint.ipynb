{
 "cells": [
  {
   "cell_type": "markdown",
   "metadata": {},
   "source": [
    "期初的文件夹只是/MNIST_data， 它保存在本代码的相同位置处，但是它的母文件是有读写权限的，所以不能写入，更改也不好更改。对此可以将其换地理位置。下载的zip文件在代码相同的位置。"
   ]
  },
  {
   "cell_type": "code",
   "execution_count": 13,
   "metadata": {},
   "outputs": [
    {
     "name": "stdout",
     "output_type": "stream",
     "text": [
      "Extracting MNIST_data/train-images-idx3-ubyte.gz\n",
      "Extracting MNIST_data/train-labels-idx1-ubyte.gz\n",
      "Extracting MNIST_data/t10k-images-idx3-ubyte.gz\n",
      "Extracting MNIST_data/t10k-labels-idx1-ubyte.gz\n",
      "(55000, 784)\n",
      "[0. 0. 0. 0. 0. 0. 0. 1. 0. 0.]\n",
      "(5000, 784)\n",
      "(5000, 10)\n",
      "(10000, 784)\n",
      "(10000, 10)\n",
      "(784,)\n",
      "mnist_train_0.jpg label: 238\n",
      "mnist_train_1.jpg label: 215\n",
      "mnist_train_2.jpg label: 181\n",
      "mnist_train_3.jpg label: 128\n",
      "mnist_train_4.jpg label: 545\n",
      "mnist_train_5.jpg label: 435\n",
      "mnist_train_6.jpg label: 572\n",
      "mnist_train_7.jpg label: 127\n",
      "mnist_train_8.jpg label: 633\n",
      "mnist_train_9.jpg label: 407\n",
      "mnist_train_10.jpg label: 153\n",
      "mnist_train_11.jpg label: 127\n",
      "mnist_train_12.jpg label: 407\n",
      "mnist_train_13.jpg label: 289\n",
      "mnist_train_14.jpg label: 491\n",
      "mnist_train_15.jpg label: 129\n",
      "mnist_train_16.jpg label: 381\n",
      "mnist_train_17.jpg label: 182\n",
      "mnist_train_18.jpg label: 497\n",
      "mnist_train_19.jpg label: 261\n"
     ]
    }
   ],
   "source": [
    "from tensorflow.examples.tutorials.mnist import input_data\n",
    "#import tensorflow.keras.datasets \n",
    "from keras.datasets import mnist\n",
    "import numpy as np\n",
    "import os\n",
    "import cv2\n",
    "\n",
    "mnist = input_data.read_data_sets('MNIST_data/',one_hot =True)\n",
    "save_dir = '/Users/wangjiabin/Desktop/MNIST_data/raw/'#\n",
    "if os.path.exists(save_dir) is False:\n",
    "    os.makedirs(save_dir)\n",
    "print(mnist.train.images.shape)\n",
    "print(mnist.train.labels[0,:])\n",
    "print(mnist.validation.images.shape)\n",
    "print(mnist.validation.labels.shape)\n",
    "print(mnist.test.images.shape)\n",
    "print(mnist.test.labels.shape)\n",
    "print(mnist.train.images[0,:].shape)\n",
    "for i in range(20):\n",
    "    image_array = mnist.train.images[i,:]\n",
    "    image_array = image_array.reshape(28,28)\n",
    "    filename = save_dir + 'mnist_array_%d.jpg'% i\n",
    "    #scipy.misc.toimage(image_array, cimi =0.0,cmax =1.0).save(filename)\n",
    "    #scipy.misc.toimage(image_array).save('cifar10_data/raw/%d.jpg' % i)\n",
    "    cv2.imwrite('/Users/wangjiabin/Desktop/MNIST_data/raw/%d.jpg' % i,image_array)#/Users/wangjiabin/Desktop\n",
    "for i in range(20):\n",
    "    one_hot_label = mnist.train.images[i,:]\n",
    "    label = np.argmax(one_hot_label)\n",
    "    image_array = image_array.reshape(28,28)\n",
    "    print('mnist_train_%d.jpg label: %d' % (i, label))\n",
    "    #filename = save_dir + 'mnist_array_%d.jpg'% i\n",
    "    #scipy.misc.toimage(image_array, cimi =0.0,cmax =1.0).save(filename)\n",
    "    #scipy.misc.toimage(image_array).save('cifar10_data/raw/%d.jpg' % i)\n",
    "    #cv2.imwrite('/Users/wangjiabin/Desktop/MNIST_data/raw/%d.jpg' % i,image_array)\n",
    " \n"
   ]
  },
  {
   "cell_type": "code",
   "execution_count": null,
   "metadata": {},
   "outputs": [],
   "source": []
  },
  {
   "cell_type": "code",
   "execution_count": 14,
   "metadata": {},
   "outputs": [],
   "source": [
    "import tensorflow as tf"
   ]
  },
  {
   "cell_type": "code",
   "execution_count": 9,
   "metadata": {},
   "outputs": [
    {
     "name": "stdout",
     "output_type": "stream",
     "text": [
      "2.3.1\n"
     ]
    }
   ],
   "source": [
    "import tensorflow as tf\n",
    "print(tf.__version__)"
   ]
  },
  {
   "cell_type": "code",
   "execution_count": null,
   "metadata": {},
   "outputs": [],
   "source": []
  },
  {
   "cell_type": "code",
   "execution_count": null,
   "metadata": {},
   "outputs": [],
   "source": []
  },
  {
   "cell_type": "code",
   "execution_count": null,
   "metadata": {},
   "outputs": [],
   "source": []
  }
 ],
 "metadata": {
  "kernelspec": {
   "display_name": "Python 3",
   "language": "python",
   "name": "python3"
  },
  "language_info": {
   "codemirror_mode": {
    "name": "ipython",
    "version": 3
   },
   "file_extension": ".py",
   "mimetype": "text/x-python",
   "name": "python",
   "nbconvert_exporter": "python",
   "pygments_lexer": "ipython3",
   "version": "3.8.3"
  }
 },
 "nbformat": 4,
 "nbformat_minor": 4
}
